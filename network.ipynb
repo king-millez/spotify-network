{
 "cells": [
  {
   "cell_type": "code",
   "execution_count": null,
   "metadata": {},
   "outputs": [],
   "source": [
    "import requests\n",
    "import typing as t\n",
    "import pandas as pd\n",
    "import networkx as nx\n",
    "\n",
    "from time import sleep\n",
    "from pyvis.network import Network\n",
    "from datetime import datetime, timedelta\n",
    "from dataclasses import dataclass, asdict"
   ]
  },
  {
   "cell_type": "code",
   "execution_count": null,
   "metadata": {},
   "outputs": [],
   "source": [
    "bearer = (\n",
    "    input(\"Input bearer token: \").split(\"Bearer \")[-1].strip()\n",
    ")  # See README.md for instructions"
   ]
  },
  {
   "cell_type": "code",
   "execution_count": null,
   "metadata": {},
   "outputs": [],
   "source": [
    "STARTING_PROFILE_ID = \"\"  # The account you want to start from (usually your own)\n",
    "MAX_DEPTH = 3"
   ]
  },
  {
   "cell_type": "code",
   "execution_count": null,
   "metadata": {},
   "outputs": [],
   "source": [
    "@dataclass\n",
    "class UserNode:\n",
    "    uid: str\n",
    "    pfp: str\n",
    "    name: str\n",
    "\n",
    "    def as_dict(self):\n",
    "        return asdict(self)\n",
    "\n",
    "\n",
    "class SpotifyClient:\n",
    "    def __init__(self, bearer: str) -> None:\n",
    "        self.bearer = bearer\n",
    "        self._get_client_token()\n",
    "\n",
    "    def _get_client_token(self):\n",
    "        r = requests.post(\n",
    "            \"https://clienttoken.spotify.com/v1/clienttoken\",\n",
    "            headers={\n",
    "                \"Accept\": \"application/json\",\n",
    "                \"content-type\": \"application/json\",\n",
    "            },\n",
    "            json={\n",
    "                \"client_data\": {\n",
    "                    \"client_version\": \"1.2.5.522.g838c1197\",\n",
    "                    \"client_id\": \"d8a5ed958d274c2e8ee717e6a4b0971d\",\n",
    "                    \"js_sdk_data\": {\n",
    "                        \"device_brand\": \"unknown\",\n",
    "                        \"device_model\": \"desktop\",\n",
    "                        \"os\": \"Windows\",\n",
    "                        \"os_version\": \"NT 10.0\",\n",
    "                    },\n",
    "                }\n",
    "            },\n",
    "        ).json()\n",
    "        self.client_token = r[\"granted_token\"][\"token\"]\n",
    "        self.exp_time = datetime.now() + timedelta(\n",
    "            seconds=r[\"granted_token\"][\"refresh_after_seconds\"] / 10_000\n",
    "        )\n",
    "        self.headers = {\n",
    "            \"authorization\": f\"Bearer {self.bearer}\",\n",
    "            \"client-token\": self.client_token,\n",
    "        }\n",
    "\n",
    "    def _req(self, *args, **kwargs):\n",
    "        if datetime.now() > self.exp_time:\n",
    "            self._get_client_token()\n",
    "        return requests.get(*args, **kwargs, headers=self.headers)\n",
    "\n",
    "    def _retry_json(self, *args, **kwargs):\n",
    "        ret = None\n",
    "        while ret is None:\n",
    "            try:\n",
    "                ret = self._req(*args, **kwargs).json()\n",
    "            except Exception as e:\n",
    "                sleep(8)\n",
    "        return ret\n",
    "\n",
    "    def get_following(self, user_id: str) -> list[UserNode | None]:\n",
    "        r = self._retry_json(\n",
    "            f\"https://spclient.wg.spotify.com/user-profile-view/v3/profile/{user_id}/following?market=from_token\"\n",
    "        )\n",
    "        pfs = r.get(\"profiles\")\n",
    "        if not pfs:\n",
    "            return [None]\n",
    "        return [\n",
    "            UserNode(\n",
    "                uid=pf[\"uri\"].split(\":\")[2], pfp=pf.get(\"image_url\"), name=pf[\"name\"]\n",
    "            )\n",
    "            for pf in pfs\n",
    "            if pf[\"uri\"].split(\":\")[1] == \"user\"\n",
    "        ]\n",
    "\n",
    "    def get_profile_info(self, user_id: str) -> UserNode:\n",
    "        r = self._retry_json(\n",
    "            f\"https://spclient.wg.spotify.com/user-profile-view/v3/profile/{user_id}?playlist_limit=10&artist_limit=10&episode_limit=10&market=from_token\"\n",
    "        )\n",
    "        return UserNode(name=r[\"name\"], pfp=r.get(\"image_url\", \"\"), uid=user_id)"
   ]
  },
  {
   "cell_type": "code",
   "execution_count": null,
   "metadata": {},
   "outputs": [],
   "source": [
    "spotify = SpotifyClient(bearer)\n",
    "\n",
    "ids_done = {}\n",
    "depth = 1\n",
    "profiles_to_scrape = [\n",
    "    {\"user\": spotify.get_profile_info(STARTING_PROFILE_ID), \"depth\": depth}\n",
    "]\n",
    "while profiles_to_scrape and depth <= MAX_DEPTH:\n",
    "    np = []\n",
    "    for index, profile in enumerate(profiles_to_scrape):\n",
    "        if ids_done.get(f'{profile[\"user\"].name} - {profile[\"user\"].uid}'):\n",
    "            continue\n",
    "        ids_done[f'{profile[\"user\"].name} - {profile[\"user\"].uid}'] = []\n",
    "        if (index + 1) % 10 == 0:\n",
    "            print(f\"{index + 1}/{len(profiles_to_scrape)}\")\n",
    "        depth = profile.get(\"depth\", 1)\n",
    "        following = spotify.get_following(profile[\"user\"].uid)\n",
    "        for user in following:\n",
    "            if not user:\n",
    "                continue\n",
    "            np.append({\"user\": user, \"depth\": depth + 1})\n",
    "            ids_done[f'{profile[\"user\"].name} - {profile[\"user\"].uid}'].append(\n",
    "                f\"{user.name} - {user.uid}\"\n",
    "            )\n",
    "    profiles_to_scrape = np\n",
    "    depth += 1\n",
    "    print(\"Depth\", depth)"
   ]
  },
  {
   "cell_type": "code",
   "execution_count": null,
   "metadata": {},
   "outputs": [],
   "source": [
    "ds = []\n",
    "for uid in ids_done:\n",
    "    for mapped_id in ids_done[uid]:\n",
    "        ds.append({\"source\": uid, \"target\": mapped_id, \"Type\": \"Undirected\"})\n",
    "df = pd.DataFrame(ds)"
   ]
  },
  {
   "cell_type": "code",
   "execution_count": null,
   "metadata": {},
   "outputs": [],
   "source": [
    "df.to_csv(f\"{STARTING_PROFILE_ID}.csv\")"
   ]
  },
  {
   "cell_type": "code",
   "execution_count": null,
   "metadata": {},
   "outputs": [],
   "source": [
    "G = nx.from_pandas_edgelist(df, source=\"source\", target=\"target\")\n",
    "net = Network(notebook=True)\n",
    "net.from_nx(G)\n",
    "net.show(f\"{STARTING_PROFILE_ID}.html\")"
   ]
  }
 ],
 "metadata": {
  "kernelspec": {
   "display_name": "Python 3",
   "language": "python",
   "name": "python3"
  },
  "language_info": {
   "codemirror_mode": {
    "name": "ipython",
    "version": 3
   },
   "file_extension": ".py",
   "mimetype": "text/x-python",
   "name": "python",
   "nbconvert_exporter": "python",
   "pygments_lexer": "ipython3",
   "version": "3.10.6"
  },
  "orig_nbformat": 4,
  "vscode": {
   "interpreter": {
    "hash": "7fc339386c1a6fc618faa1068db86f95be447e01c5af1c4d6457e6d02ecf729f"
   }
  }
 },
 "nbformat": 4,
 "nbformat_minor": 2
}
